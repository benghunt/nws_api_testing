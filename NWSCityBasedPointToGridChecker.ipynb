{
 "cells": [
  {
   "cell_type": "code",
   "execution_count": 170,
   "id": "a36ebd97",
   "metadata": {},
   "outputs": [],
   "source": [
    "import requests, json\n",
    "from shapely.geometry import Point\n",
    "from shapely.geometry.polygon import Polygon\n",
    "import matplotlib.pyplot as plt\n",
    "from datetime import datetime\n",
    "NWSAPIURLSTART = 'https://api.weather.gov'\n",
    "\n",
    "def get_location_url_from_coords(lat,lon):\n",
    "    return NWSAPIURLSTART + '/points/' +str(lat) + ',' + str(lon)\n",
    "\n",
    "def get_gridX_gridY_office_from_location_url(location_url):\n",
    "    r = requests.get(location_url)\n",
    "    if (r.status_code == 200):\n",
    "        j = json.loads(r.text)\n",
    "        d = {}\n",
    "        d['gridX'] = j['properties']['gridX']\n",
    "        d['gridY'] = j['properties']['gridY']\n",
    "        d['office'] = j['properties']['cwa']\n",
    "        return d\n",
    "    else:\n",
    "        print(r)\n",
    "\n",
    "        \n",
    "def get_grid_endpoint_from_dict(d):\n",
    "    return NWSAPIURLSTART + '/gridpoints/' + str(d['office']) + '/' + str(d['gridX']) + ',' + str(d['gridY'])\n",
    "\n"
   ]
  },
  {
   "cell_type": "code",
   "execution_count": 171,
   "id": "1f5a4d2d",
   "metadata": {},
   "outputs": [
    {
     "data": {
      "text/plain": [
       "<Response [200]>"
      ]
     },
     "execution_count": 171,
     "metadata": {},
     "output_type": "execute_result"
    }
   ],
   "source": [
    "r = requests.get('https://gist.githubusercontent.com/Miserlou/c5cd8364bf9b2420bb29/raw/2bf258763cdddd704f8ffd3ea9a3e81d25e2c6f6/cities.json')\n",
    "r"
   ]
  },
  {
   "cell_type": "code",
   "execution_count": 172,
   "id": "6f9d4954",
   "metadata": {},
   "outputs": [],
   "source": [
    "j = json.loads(r.text)"
   ]
  },
  {
   "cell_type": "code",
   "execution_count": 173,
   "id": "74f29fcc",
   "metadata": {},
   "outputs": [
    {
     "name": "stdout",
     "output_type": "stream",
     "text": [
      "dict_keys(['city', 'growth_from_2000_to_2013', 'latitude', 'longitude', 'population', 'rank', 'state'])\n",
      "40.7127837\n",
      "-74.0059413\n",
      "New York\n",
      "New York\n"
     ]
    }
   ],
   "source": [
    "print(j[0].keys())\n",
    "print(j[0]['latitude'])\n",
    "print(j[0]['longitude'])\n",
    "print(j[0]['city'])\n",
    "print(j[0]['state'])"
   ]
  },
  {
   "cell_type": "code",
   "execution_count": 174,
   "id": "33b54268",
   "metadata": {},
   "outputs": [
    {
     "name": "stdout",
     "output_type": "stream",
     "text": [
      "https://api.weather.gov/points/40.7127837,-74.0059413\n"
     ]
    }
   ],
   "source": [
    "url = get_location_url_from_coords(j[0]['latitude'], j[0]['longitude'])\n",
    "print(url)"
   ]
  },
  {
   "cell_type": "code",
   "execution_count": 175,
   "id": "0b6e0ba0",
   "metadata": {},
   "outputs": [],
   "source": [
    "lr = requests.get(url)"
   ]
  },
  {
   "cell_type": "code",
   "execution_count": 176,
   "id": "68d15511",
   "metadata": {},
   "outputs": [
    {
     "name": "stdout",
     "output_type": "stream",
     "text": [
      "32\n",
      "34\n",
      "OKX\n"
     ]
    }
   ],
   "source": [
    "lj = json.loads(lr.text)\n",
    "print(lj['properties']['gridX'])\n",
    "print(lj['properties']['gridY'])\n",
    "print(lj['properties']['cwa'])"
   ]
  },
  {
   "cell_type": "code",
   "execution_count": 177,
   "id": "ff065b1c",
   "metadata": {},
   "outputs": [
    {
     "name": "stdout",
     "output_type": "stream",
     "text": [
      "https://api.weather.gov/gridpoints/OKX/32,34\n"
     ]
    }
   ],
   "source": [
    "gridpointsurl = get_grid_endpoint_from_dict(get_gridX_gridY_office_from_location_url(url))\n",
    "print(gridpointsurl)"
   ]
  },
  {
   "cell_type": "code",
   "execution_count": 178,
   "id": "c32fdf75",
   "metadata": {},
   "outputs": [
    {
     "data": {
      "text/plain": [
       "<Response [200]>"
      ]
     },
     "execution_count": 178,
     "metadata": {},
     "output_type": "execute_result"
    }
   ],
   "source": [
    "gridr = requests.get(gridpointsurl)\n",
    "gridr"
   ]
  },
  {
   "cell_type": "code",
   "execution_count": 179,
   "id": "5f9f7419",
   "metadata": {},
   "outputs": [
    {
     "data": {
      "text/plain": [
       "dict_keys(['@context', 'id', 'type', 'geometry', 'properties'])"
      ]
     },
     "execution_count": 179,
     "metadata": {},
     "output_type": "execute_result"
    }
   ],
   "source": [
    "gridjson = json.loads(gridr.text)\n",
    "gridjson.keys()"
   ]
  },
  {
   "cell_type": "code",
   "execution_count": 180,
   "id": "7a4bcbe1",
   "metadata": {},
   "outputs": [
    {
     "name": "stdout",
     "output_type": "stream",
     "text": [
      "1657648800.0\n",
      "1657476000.0\n"
     ]
    }
   ],
   "source": [
    "gridjson['geometry']['coordinates'][0]\n",
    "time_nws = gridjson['properties']['validTimes']\n",
    "t1 = datetime.strptime(time_nws.split('+')[0], '%Y-%m-%dT%H:%M:%S').timestamp()\n",
    "print(t1)\n",
    "two_days_old = t1-(2*24*60*60)\n",
    "print(two_days_old)"
   ]
  },
  {
   "cell_type": "code",
   "execution_count": 181,
   "id": "338d4c05",
   "metadata": {},
   "outputs": [
    {
     "name": "stdout",
     "output_type": "stream",
     "text": [
      "40.7270524\n",
      "-74.0250952\n",
      "40.7053617\n",
      "-74.0295579\n",
      "40.7019775\n",
      "-74.0009483\n",
      "40.723667899999995\n",
      "-73.9964798\n",
      "40.7270524\n",
      "-74.0250952\n",
      "1657658491.139978\n"
     ]
    }
   ],
   "source": [
    "\n",
    "polygon_points = []\n",
    "for coord in gridjson['geometry']['coordinates'][0]:\n",
    "    polygon_points.append(Point(coord[1],coord[0]))\n",
    "box = Polygon(polygon_points)\n",
    "for point in polygon_points:\n",
    "    print(point.x)\n",
    "    print(point.y)\n",
    "box.contains(Point(40.7127837,-74.0059413))\n",
    "print(datetime.now().timestamp())"
   ]
  },
  {
   "cell_type": "code",
   "execution_count": null,
   "id": "8477605b",
   "metadata": {},
   "outputs": [
    {
     "name": "stdout",
     "output_type": "stream",
     "text": [
      "New York\n",
      "https://api.weather.gov/points/40.7127837,-74.0059413\n",
      "https://api.weather.gov/gridpoints/OKX/32,34\n",
      "Los Angeles\n",
      "https://api.weather.gov/points/34.0522342,-118.2436849\n",
      "https://api.weather.gov/gridpoints/LOX/154,44\n",
      "Chicago\n",
      "https://api.weather.gov/points/41.8781136,-87.6297982\n",
      "https://api.weather.gov/gridpoints/LOT/75,72\n",
      "Houston\n",
      "https://api.weather.gov/points/29.7604267,-95.3698028\n",
      "https://api.weather.gov/gridpoints/HGX/63,94\n"
     ]
    }
   ],
   "source": [
    "missed_gridpoints = 0\n",
    "successful_gridpoints = 0\n",
    "miles_off = []\n",
    "off_grid_points = []\n",
    "\n",
    "\n",
    "bad_times = []\n",
    "now_time = datetime.now().timestamp()\n",
    "two_days_old = (now_time - (2*24*60*60))\n",
    "gridpoints_too_old = 0\n",
    "gridpoints_good_time = 0\n",
    "\n",
    "\n",
    "for city in j[:250]:\n",
    "    print(city['city'])\n",
    "    city_lat = city['latitude']\n",
    "    city_lon = city['longitude']\n",
    "    url = get_location_url_from_coords(city_lat, city_lon)\n",
    "    print(url)\n",
    "    gridpointsurl = get_grid_endpoint_from_dict(get_gridX_gridY_office_from_location_url(url))\n",
    "    print(gridpointsurl)\n",
    "    gridpoint_request = requests.get(gridpointsurl)\n",
    "    if gridpoint_request.status_code ==200:\n",
    "        grid_json = json.loads(gridpoint_request.text)\n",
    "        polygon_points = []\n",
    "        for coord in grid_json['geometry']['coordinates'][0]:\n",
    "            polygon_points.append(Point(coord[1],coord[0]))\n",
    "        box = Polygon(polygon_points)\n",
    "        city_point = Point(city_lat,city_lon)\n",
    "        grid_correct = box.contains(city_point)\n",
    "        if grid_correct:\n",
    "            successful_gridpoints += 1\n",
    "        if not grid_correct:\n",
    "            off_grid_points.append(city_point)\n",
    "            missed_gridpoints += 1\n",
    "            dist_miles = 68*box.exterior.distance(city_point)\n",
    "            print(str(city_lat) + ',' + str(city_lon) + ' is not in ' + str(grid_json['geometry']['coordinates'][0]))\n",
    "            print(\"distance off: rough miles (vector dist * 68 mi): \" + str(dist_miles))\n",
    "            miles_off.append(dist_miles)\n",
    "        forecast_time = grid_json['properties']['validTimes']\n",
    "        forecast_timestamp = datetime.strptime(time_nws.split('+')[0], '%Y-%m-%dT%H:%M:%S').timestamp()\n",
    "        if forecast_timestamp < two_days_old:\n",
    "            print(\"more than two days old\")\n",
    "            print(forecast_time)\n",
    "            bad_times.append(forecast_time)\n",
    "            gridpoints_too_old += 1\n",
    "        if forecast_timestamp > two_days_old:\n",
    "            gridpoints_good_time += 1\n",
    "            \n",
    "            \n",
    "\n",
    "    \n",
    "        \n",
    "    "
   ]
  },
  {
   "cell_type": "code",
   "execution_count": null,
   "id": "5bb8731e",
   "metadata": {},
   "outputs": [],
   "source": [
    "print('lat lon not in grid:' + str(missed_gridpoints))\n",
    "print('lat lon successful:' + str(successful_gridpoints))\n",
    "print(\"error rate %: \" +str(missed_gridpoints/ (successful_gridpoints+missed_gridpoints)))\n",
    "import statistics\n",
    "print('average distance to grid' + str(statistics.mean(miles_off)))\n",
    "print(max(miles_off))\n",
    "print(min(miles_off))\n",
    "print('# of forecasts > 2 days old:' + str(gridpoints_too_old))"
   ]
  },
  {
   "cell_type": "code",
   "execution_count": 169,
   "id": "19817470",
   "metadata": {},
   "outputs": [
    {
     "data": {
      "text/plain": [
       "<matplotlib.collections.PathCollection at 0x7fbed9109670>"
      ]
     },
     "execution_count": 169,
     "metadata": {},
     "output_type": "execute_result"
    },
    {
     "data": {
      "image/png": "[encoded data removed]",
      "text/plain": [
       "<Figure size 432x288 with 1 Axes>"
      ]
     },
     "metadata": {
      "needs_background": "light"
     },
     "output_type": "display_data"
    }
   ],
   "source": [
    "xs =[point.x for point in off_grid_points]\n",
    "ys =[point.y for point in off_grid_points]\n",
    "plt.scatter(ys,xs)"
   ]
  },
  {
   "cell_type": "code",
   "execution_count": 119,
   "id": "d7d39de9",
   "metadata": {},
   "outputs": [
    {
     "data": {
      "text/plain": [
       "False"
      ]
     },
     "execution_count": 119,
     "metadata": {},
     "output_type": "execute_result"
    }
   ],
   "source": []
  },
  {
   "cell_type": "code",
   "execution_count": null,
   "id": "cbbff0db",
   "metadata": {},
   "outputs": [],
   "source": []
  }
 ],
 "metadata": {
  "kernelspec": {
   "display_name": "Python 3 (ipykernel)",
   "language": "python",
   "name": "python3"
  },
  "language_info": {
   "codemirror_mode": {
    "name": "ipython",
    "version": 3
   },
   "file_extension": ".py",
   "mimetype": "text/x-python",
   "name": "python",
   "nbconvert_exporter": "python",
   "pygments_lexer": "ipython3",
   "version": "3.9.7"
  }
 },
 "nbformat": 4,
 "nbformat_minor": 5
}
