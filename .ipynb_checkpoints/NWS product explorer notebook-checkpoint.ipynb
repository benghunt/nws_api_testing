{
 "cells": [
  {
   "cell_type": "code",
   "execution_count": 21,
   "id": "17995b58",
   "metadata": {},
   "outputs": [],
   "source": [
    "#GOAL OF THIS NOTEBOOK IS TO EXPLORE THE AVAILABLE PRODUCTS TO A CERTAIN LAT / LON\n",
    "#YOU ARE ENCOURAGED TO LOOK THROUGH THE THREE LETTER CODES IN\n",
    "\n",
    "import requests, json\n",
    "from datetime import datetime"
   ]
  },
  {
   "cell_type": "code",
   "execution_count": 22,
   "id": "8274bc69",
   "metadata": {},
   "outputs": [
    {
     "name": "stdout",
     "output_type": "stream",
     "text": [
      "https://api.weather.gov/points/29.9511,-90.0715\n"
     ]
    }
   ],
   "source": [
    "apistarturl = 'https://api.weather.gov'\n",
    "\n",
    "def get_location_url_from_coords(lat,lon):\n",
    "    return apistarturl + '/points/' + str(lat) + ',' + str(lon)\n",
    "\n",
    "\n",
    "#HERE IS WHERE YOU CHANGE THE LAT / LON OF THE AREA YOU ARE INTERESTED IN\n",
    "\n",
    "url = get_location_url_from_coords(29.9511,-90.0715)\n",
    "\n",
    "#NEW ORLEANS IS USED AS THE DEFAULT\n",
    "\n",
    "print(url)"
   ]
  },
  {
   "cell_type": "code",
   "execution_count": null,
   "id": "1d342a3d",
   "metadata": {},
   "outputs": [],
   "source": [
    "r = requests.get(url)\n",
    "print(r)"
   ]
  },
  {
   "cell_type": "code",
   "execution_count": null,
   "id": "14cea11b",
   "metadata": {},
   "outputs": [],
   "source": [
    "location_json_obj = json.loads(r.text)\n",
    "print(location_json_obj.keys())\n",
    "print(location_json_obj['properties'].keys())"
   ]
  },
  {
   "cell_type": "code",
   "execution_count": null,
   "id": "a229a566",
   "metadata": {},
   "outputs": [],
   "source": [
    "office = location_json_obj['properties']['gridId']\n",
    "station = location_json_obj['properties']['radarStation']\n",
    "print(office)\n",
    "print(station)\n",
    "products_in_station_url = apistarturl + '/products/locations/' + office + '/types'\n",
    "print(products_in_station_url)\n",
    "r = requests.get(products_in_station_url)\n",
    "print(r)"
   ]
  },
  {
   "cell_type": "code",
   "execution_count": null,
   "id": "153d3355",
   "metadata": {},
   "outputs": [],
   "source": [
    "products_at_station = json.loads(r.text)['@graph']\n",
    "products_at_station"
   ]
  },
  {
   "cell_type": "code",
   "execution_count": null,
   "id": "49e28a2f",
   "metadata": {},
   "outputs": [],
   "source": [
    "#THIS IS AN IMPORTANT LINE\n",
    "#v v v v vv v v v v v v v  \n",
    "desired_product_code = 'PFM'\n",
    "# ^ ^ ^ ^ ^ ^ ^ ^ ^ ^\n",
    "#HERE IS WHERE YOU CHANGE THE PRODUCT CODE TO BE THE THREE LETTER PRODUCT OF INTEREST\n",
    "\n",
    "for product in products_at_station:\n",
    "    if product['productCode'] == desired_product_code:\n",
    "        print(product)\n",
    "recentProductURL = apistarturl + '/products/types/' + desired_product_code\n",
    "print(recentProductURL)\n",
    "r = requests.get(recentProductURL)\n",
    "print(r)"
   ]
  },
  {
   "cell_type": "code",
   "execution_count": null,
   "id": "4be562c8",
   "metadata": {},
   "outputs": [],
   "source": [
    "recentProductURL = apistarturl + '/products/types/' + desired_product_code\n",
    "recentProductURL"
   ]
  },
  {
   "cell_type": "code",
   "execution_count": null,
   "id": "58ecf423",
   "metadata": {},
   "outputs": [],
   "source": [
    "recentProductsJSON = json.loads(r.text)\n",
    "print(recentProductsJSON.keys())\n",
    "station_products = []\n",
    "for product in recentProductsJSON['@graph']:\n",
    "    if product['issuingOffice'] == station:\n",
    "        station_products.append(product)\n",
    "station_products[0]"
   ]
  },
  {
   "cell_type": "code",
   "execution_count": null,
   "id": "eba669d5",
   "metadata": {},
   "outputs": [],
   "source": [
    "#HERE IS WHERE THE PRODUCTS AVAILABLE ARE REDUCED TO THE MOST RECENT ONE\n",
    "\n",
    "t1 = datetime.strptime(station_products[0]['issuanceTime'].split('+')[0], '%Y-%m-%dT%H:%M:%S')\n",
    "t2 = datetime.strptime(station_products[1]['issuanceTime'].split('+')[0], '%Y-%m-%dT%H:%M:%S')\n",
    "most_recent_date = datetime(1,1,1)\n",
    "most_recent_product = ''\n",
    "for product in station_products:\n",
    "    product_date = datetime.strptime(product['issuanceTime'].split('+')[0], '%Y-%m-%dT%H:%M:%S')\n",
    "    if most_recent_date < product_date:\n",
    "        most_recent_product = product\n",
    "        most_recent_date = product_date"
   ]
  },
  {
   "cell_type": "code",
   "execution_count": null,
   "id": "eec0ffa3",
   "metadata": {},
   "outputs": [],
   "source": [
    "most_recent_product"
   ]
  },
  {
   "cell_type": "code",
   "execution_count": null,
   "id": "6f00cab7",
   "metadata": {},
   "outputs": [],
   "source": [
    "most_recent_product_url = most_recent_product['@id']"
   ]
  },
  {
   "cell_type": "code",
   "execution_count": null,
   "id": "afc41f86",
   "metadata": {},
   "outputs": [],
   "source": [
    "r =requests.get(most_recent_product_url)\n",
    "print(r)\n",
    "product_json = json.loads(r.text)\n",
    "print(product_json.keys())"
   ]
  },
  {
   "cell_type": "code",
   "execution_count": null,
   "id": "d9bdc004",
   "metadata": {},
   "outputs": [],
   "source": [
    "print(product_json['productText'])"
   ]
  },
  {
   "cell_type": "code",
   "execution_count": null,
   "id": "98b94023",
   "metadata": {},
   "outputs": [],
   "source": []
  },
  {
   "cell_type": "code",
   "execution_count": null,
   "id": "bd89171a",
   "metadata": {},
   "outputs": [],
   "source": []
  },
  {
   "cell_type": "code",
   "execution_count": null,
   "id": "f3504475",
   "metadata": {},
   "outputs": [],
   "source": []
  },
  {
   "cell_type": "code",
   "execution_count": null,
   "id": "35e44be0",
   "metadata": {},
   "outputs": [],
   "source": []
  },
  {
   "cell_type": "code",
   "execution_count": null,
   "id": "13ae4145",
   "metadata": {},
   "outputs": [],
   "source": []
  },
  {
   "cell_type": "code",
   "execution_count": null,
   "id": "90d92308",
   "metadata": {},
   "outputs": [],
   "source": []
  },
  {
   "cell_type": "code",
   "execution_count": null,
   "id": "dfaab11b",
   "metadata": {},
   "outputs": [],
   "source": []
  },
  {
   "cell_type": "code",
   "execution_count": null,
   "id": "2d60a406",
   "metadata": {},
   "outputs": [],
   "source": []
  },
  {
   "cell_type": "code",
   "execution_count": null,
   "id": "8290c722",
   "metadata": {},
   "outputs": [],
   "source": []
  },
  {
   "cell_type": "code",
   "execution_count": null,
   "id": "4abf8557",
   "metadata": {},
   "outputs": [],
   "source": []
  },
  {
   "cell_type": "code",
   "execution_count": null,
   "id": "8621cb5d",
   "metadata": {},
   "outputs": [],
   "source": []
  },
  {
   "cell_type": "code",
   "execution_count": null,
   "id": "b4d732e5",
   "metadata": {},
   "outputs": [],
   "source": []
  },
  {
   "cell_type": "code",
   "execution_count": null,
   "id": "db8aea53",
   "metadata": {},
   "outputs": [],
   "source": []
  },
  {
   "cell_type": "code",
   "execution_count": null,
   "id": "a68fe3ea",
   "metadata": {},
   "outputs": [],
   "source": []
  },
  {
   "cell_type": "code",
   "execution_count": null,
   "id": "4e523314",
   "metadata": {},
   "outputs": [],
   "source": []
  },
  {
   "cell_type": "code",
   "execution_count": null,
   "id": "a699676a",
   "metadata": {},
   "outputs": [],
   "source": []
  }
 ],
 "metadata": {
  "kernelspec": {
   "display_name": "Python 3 (ipykernel)",
   "language": "python",
   "name": "python3"
  },
  "language_info": {
   "codemirror_mode": {
    "name": "ipython",
    "version": 3
   },
   "file_extension": ".py",
   "mimetype": "text/x-python",
   "name": "python",
   "nbconvert_exporter": "python",
   "pygments_lexer": "ipython3",
   "version": "3.8.10"
  }
 },
 "nbformat": 4,
 "nbformat_minor": 5
}
